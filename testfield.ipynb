{
 "cells": [
  {
   "cell_type": "code",
   "execution_count": 1,
   "metadata": {
    "collapsed": true
   },
   "outputs": [],
   "source": [
    "import os, time"
   ]
  },
  {
   "cell_type": "code",
   "execution_count": 2,
   "metadata": {
    "collapsed": true
   },
   "outputs": [],
   "source": [
    "# from pprint import pprint as print\n",
    "print = __builtin__.print"
   ]
  },
  {
   "cell_type": "code",
   "execution_count": 3,
   "metadata": {
    "collapsed": true
   },
   "outputs": [],
   "source": [
    "import matplotlib.image as mpimage\n",
    "import matplotlib.pyplot as plt\n",
    "%matplotlib inline\n",
    "from IPython import display\n",
    "\n",
    "VISUALIZATION = True"
   ]
  },
  {
   "cell_type": "code",
   "execution_count": 4,
   "metadata": {
    "collapsed": true
   },
   "outputs": [],
   "source": [
    "import numpy as np"
   ]
  },
  {
   "cell_type": "markdown",
   "metadata": {},
   "source": [
    "# Data Representations\n",
    "\n",
    "## Basic Orientation  \n",
    "\n",
    "w.r.t displayed digit  \n",
    "\n",
    "```txt\n",
    "                ^\n",
    "  <= (xrot)     | (x-axis)\n",
    " (x-to-negy)    |\n",
    "\n",
    "             =======\n",
    "                  //\n",
    "                 //\n",
    "                //    --> (y-axis)\n",
    "                ||\n",
    "                ||   =-· (yrot) (y-to-negz)\n",
    "\n",
    "          · (paper-out) (z-axis)\n",
    "```\n",
    "\n",
    "---\n",
    "\n",
    "world coordinate\n",
    "\n",
    "```txt\n",
    "    ^\n",
    "    | (z-axis)\n",
    "    |\n",
    "\n",
    " -----===  --> (x-axis)\n",
    "\n",
    "  /\n",
    " /  (y-axis)\n",
    "/\n",
    "```\n",
    "\n",
    "### Visualization\n",
    "\n",
    "> Note:  \n",
    "> `(xrot, yrot) = (0, 90)` is exceptional and problematic under this interpretation!  "
   ]
  },
  {
   "cell_type": "code",
   "execution_count": 5,
   "metadata": {
    "collapsed": true
   },
   "outputs": [],
   "source": [
    "avail_digits = [ d for d in range(10) ]             # 0, ..., 9\n",
    "legal_xrots = [ an for an in range(0, 360, 10) ]    # 0, ..., 350\n",
    "legal_yrots = [ an for an in range(90, -90, -10) ]  # -80, ..., 90"
   ]
  },
  {
   "cell_type": "code",
   "execution_count": 6,
   "metadata": {
    "collapsed": true
   },
   "outputs": [],
   "source": [
    "gen_filename = (\n",
    "    lambda dig, xrot, yrot:\n",
    "        '字母数字符号大全_pic{}_{}_{}.png'\n",
    "        .format(*list(map(str, [dig, xrot, yrot])))\n",
    ")"
   ]
  },
  {
   "cell_type": "code",
   "execution_count": 7,
   "metadata": {
    "collapsed": true
   },
   "outputs": [],
   "source": [
    "to_grayscale = (\n",
    "    lambda img:\n",
    "        np.sum(img[:, :, :3], axis=2) / 3.0\n",
    ")"
   ]
  },
  {
   "cell_type": "code",
   "execution_count": 8,
   "metadata": {
    "collapsed": true
   },
   "outputs": [],
   "source": [
    "def digit_image_read(digit, xrot, yrot, grayscale=True):\n",
    "    img = mpimage.imread('../download/'\n",
    "                         + gen_filename(digit, xrot, yrot))\n",
    "    img = img[:, :, :3]  # discard alpha channel\n",
    "    if grayscale:\n",
    "        img = to_grayscale(img)\n",
    "    return img"
   ]
  },
  {
   "cell_type": "code",
   "execution_count": 9,
   "metadata": {
    "collapsed": true
   },
   "outputs": [],
   "source": [
    "if False:\n",
    "    for xrot in range(0, 360, 10):\n",
    "        for yrot in range(90, -90, -10):\n",
    "            img = digit_image_read(7, xrot, yrot, grayscale=True)\n",
    "            display.clear_output(wait=True)\n",
    "            print('xrot:{: 5}'.format(xrot))\n",
    "            print('yrot:{: 5}'.format(yrot))\n",
    "            # center_point = (733 // 2, 1200 // 2)\n",
    "            # print(img[center_point[0]-5:center_point[0]+5, center_point[1]-5:center_point[1]+5])\n",
    "            # print(img[0, 0])\n",
    "            plt.imshow(img, cmap='gray'); plt.show()\n",
    "            time.sleep(1.0)"
   ]
  },
  {
   "cell_type": "markdown",
   "metadata": {},
   "source": [
    "### Data Types and Formats\n",
    "\n",
    "Image data is of type `np.ndarray`, with shape of `(733, 1200)` and `4` channels.  "
   ]
  },
  {
   "cell_type": "code",
   "execution_count": 10,
   "metadata": {
    "collapsed": false,
    "scrolled": false
   },
   "outputs": [
    {
     "data": {
      "image/png": "[encoded data removed]",
      "text/plain": [
       "<Figure size 432x288 with 1 Axes>"
      ]
     },
     "metadata": {
      "needs_background": "light"
     },
     "output_type": "display_data"
    }
   ],
   "source": [
    "rawimg = mpimage.imread('../download/' + gen_filename(7, 80, 60))\n",
    "_ = (plt.imshow(rawimg[:, :, :3]), plt.show())  # the assignment op. is for suppressing unnecessary output"
   ]
  },
  {
   "cell_type": "markdown",
   "metadata": {},
   "source": [
    "**Data Type**"
   ]
  },
  {
   "cell_type": "code",
   "execution_count": 11,
   "metadata": {
    "collapsed": false,
    "scrolled": false
   },
   "outputs": [
    {
     "name": "stdout",
     "output_type": "stream",
     "text": [
      "<class 'numpy.ndarray'>\n",
      "(733, 1200, 4)\n"
     ]
    }
   ],
   "source": [
    "print(type(rawimg))\n",
    "print(rawimg.shape)"
   ]
  },
  {
   "cell_type": "markdown",
   "metadata": {},
   "source": [
    "**Data Interpreation**  \n",
    "\n",
    "Using 4-channel PNG image  \n",
    "- layer \\#0 to \\#2: R, G, B channels respectively\n",
    "- layer \\#3: alpha channel"
   ]
  },
  {
   "cell_type": "code",
   "execution_count": 12,
   "metadata": {
    "collapsed": false
   },
   "outputs": [
    {
     "name": "stdout",
     "output_type": "stream",
     "text": [
      "layer #0\n"
     ]
    },
    {
     "data": {
      "image/png": "[encoded data removed]",
      "text/plain": [
       "<Figure size 432x288 with 1 Axes>"
      ]
     },
     "metadata": {
      "needs_background": "light"
     },
     "output_type": "display_data"
    },
    {
     "name": "stdout",
     "output_type": "stream",
     "text": [
      "layer #1\n"
     ]
    },
    {
     "data": {
      "image/png": "[encoded data removed]",
      "text/plain": [
       "<Figure size 432x288 with 1 Axes>"
      ]
     },
     "metadata": {
      "needs_background": "light"
     },
     "output_type": "display_data"
    },
    {
     "name": "stdout",
     "output_type": "stream",
     "text": [
      "layer #2\n"
     ]
    },
    {
     "data": {
      "image/png": "[encoded data removed]",
      "text/plain": [
       "<Figure size 432x288 with 1 Axes>"
      ]
     },
     "metadata": {
      "needs_background": "light"
     },
     "output_type": "display_data"
    },
    {
     "name": "stdout",
     "output_type": "stream",
     "text": [
      "layer #3\n"
     ]
    },
    {
     "data": {
      "image/png": "[encoded data removed]",
      "text/plain": [
       "<Figure size 432x288 with 1 Axes>"
      ]
     },
     "metadata": {
      "needs_background": "light"
     },
     "output_type": "display_data"
    }
   ],
   "source": [
    "if VISUALIZATION:\n",
    "    for layer_idx in range(rawimg.shape[-1]):\n",
    "        print('layer #{}'.format(layer_idx))\n",
    "        plt.imshow(rawimg[:, :, layer_idx])\n",
    "        plt.show()"
   ]
  },
  {
   "cell_type": "markdown",
   "metadata": {},
   "source": [
    "# Model 'N Predict !!!\n",
    "\n",
    "Using pretrained networks as feature extraction in this example.  "
   ]
  },
  {
   "cell_type": "code",
   "execution_count": 13,
   "metadata": {
    "collapsed": true
   },
   "outputs": [],
   "source": [
    "import torch\n",
    "import torch.nn as nn\n",
    "import torch.nn.functional as F\n",
    "import torch.optim as optim"
   ]
  },
  {
   "cell_type": "code",
   "execution_count": 14,
   "metadata": {
    "collapsed": false
   },
   "outputs": [],
   "source": [
    "os.environ['CUDA_VISIBLE_DEVICES'] = '0'\n",
    "device = torch.device('cuda' if torch.cuda.is_available() else 'cpu')\n",
    "# device = torch.device('cpu')"
   ]
  },
  {
   "cell_type": "markdown",
   "metadata": {},
   "source": [
    "## Build Model, Define Criterion"
   ]
  },
  {
   "cell_type": "code",
   "execution_count": null,
   "metadata": {
    "collapsed": false
   },
   "outputs": [],
   "source": [
    "from models import DiscriminatorNet\n",
    "model = DiscriminatorNet(pretrained=True, device=device).to(device=device)\n",
    "optimizer = optim.Adam(model.parameters(), lr=1e-6)"
   ]
  },
  {
   "cell_type": "code",
   "execution_count": null,
   "metadata": {
    "collapsed": true
   },
   "outputs": [],
   "source": [
    "which_digit_crit = nn.CrossEntropyLoss()\n",
    "what_oritent_crit = nn.MSELoss()"
   ]
  },
  {
   "cell_type": "markdown",
   "metadata": {},
   "source": [
    "## Make Dataset"
   ]
  },
  {
   "cell_type": "code",
   "execution_count": null,
   "metadata": {
    "collapsed": false
   },
   "outputs": [
    {
     "name": "stdout",
     "output_type": "stream",
     "text": [
      "digit:    5\n",
      " xrot:  330\n",
      " yrot:   10\n"
     ]
    },
    {
     "data": {
      "image/png": "[encoded data removed]",
      "text/plain": [
       "<Figure size 432x288 with 1 Axes>"
      ]
     },
     "metadata": {
      "needs_background": "light"
     },
     "output_type": "display_data"
    }
   ],
   "source": [
    "from datautils import DigitDataset\n",
    "dataloader = DigitDataset('../download/', grayscale=False, device=device)\n",
    "\n",
    "if True:\n",
    "    img, lbl = dataloader.sample()\n",
    "    display.clear_output()\n",
    "    print('digit:{: 5}'.format(lbl[0]))\n",
    "    print(' xrot:{: 5}'.format(lbl[1]))\n",
    "    print(' yrot:{: 5}'.format(lbl[2]))\n",
    "    plt.imshow(img); plt.show()"
   ]
  },
  {
   "cell_type": "markdown",
   "metadata": {},
   "source": [
    "## Build Pipeline"
   ]
  },
  {
   "cell_type": "code",
   "execution_count": null,
   "metadata": {
    "collapsed": true
   },
   "outputs": [],
   "source": [
    "from itertools import count"
   ]
  },
  {
   "cell_type": "code",
   "execution_count": null,
   "metadata": {
    "collapsed": true
   },
   "outputs": [],
   "source": [
    "def test(sample_size=10):\n",
    "    data, labels = dataloader.sample_batch(sample_size)\n",
    "    data = torch.tensor(data, dtype=torch.float32, device=device)\n",
    "    labels = torch.tensor(labels, dtype=torch.float32, device=device)\n",
    "    digit_labels = labels[:, 0].to(dtype=torch.long)\n",
    "    # print(digit_labels)\n",
    "    digit_pred_score, _ = model(data)\n",
    "    digit_pred = torch.argmax(digit_pred_score, dim=1)\n",
    "    # print(digit_pred)\n",
    "    acc = (digit_pred == digit_labels).sum().item() / sample_size\n",
    "    return acc"
   ]
  },
  {
   "cell_type": "code",
   "execution_count": null,
   "metadata": {
    "collapsed": true
   },
   "outputs": [],
   "source": [
    "def train(\n",
    "        batch_size=16,\n",
    "        num_episodes=None):\n",
    "\n",
    "    logs = {\n",
    "        'digit_loss': [],\n",
    "        'orient_loss': [],\n",
    "        'surrogate_loss': [],\n",
    "        'test_acc': []\n",
    "    }\n",
    "\n",
    "    def train_step():\n",
    "        torch.cuda.empty_cache()\n",
    "        # get network prediction\n",
    "        data, labels = dataloader.sample_batch(batch_size)  # [ ( img_arr, (digit, xrot, yrot) ) ]\n",
    "        # convert raw data to `torch.tensor`s\n",
    "        data = torch.tensor(data, dtype=torch.float32, device=device)\n",
    "        labels = torch.tensor(labels, dtype=torch.float32, device=device)\n",
    "        # # `digit_labels` should be one-hot encoded\n",
    "        # digit_labels = torch.zeros(labels.shape[0], 10, dtype=torch.long, device=device)\n",
    "        # digit_labels = digit_labels.scatter(1, labels[:, 0].unsqueeze(1).to(dtype=torch.long),\n",
    "        #                                     torch.tensor(1, dtype=torch.long))\n",
    "        # NO! It is index-encoded!!!\n",
    "        digit_labels = labels[:, 0].to(dtype=torch.long)\n",
    "        orient_labels = labels[:, 1:]\n",
    "        # print('[LOG] data sampled!')\n",
    "        # make prediction\n",
    "        digit_pred_score, orient_pred = model(data)\n",
    "        # print('[LOG] got model prediction!')\n",
    "        # calculate loss\n",
    "        # __builtin__.print(digit_pred_score.shape, digit_labels.shape)  # `pprint` throws strange `write` errors\n",
    "        digit_loss = which_digit_crit(digit_pred_score, digit_labels)\n",
    "        # __builtin__.print(orient_pred.shape, orient_labels.shape)\n",
    "        orient_loss = 3.0 * 1e-4 * what_oritent_crit(orient_pred, orient_labels)\n",
    "        surrogate_loss = digit_loss + 0.0 * orient_loss  # TODO: tune this \\tau !!!\n",
    "        # __builtin__.print('[LOG] got loss:', surrogate_loss)\n",
    "        # backward prop and update\n",
    "        optimizer.zero_grad()\n",
    "        surrogate_loss.backward()\n",
    "        optimizer.step()\n",
    "        # print('[LOG] backward-prop completed!')\n",
    "        # record training progress\n",
    "        logs['digit_loss'].append(digit_loss)\n",
    "        logs['orient_loss'].append(orient_loss)\n",
    "        logs['surrogate_loss'].append(surrogate_loss)\n",
    "\n",
    "    episode_iter = (count() if not num_episodes else range(num_episodes))\n",
    "\n",
    "    for ep in episode_iter:\n",
    "        train_step()\n",
    "        if ep % 10 == 0:\n",
    "            logs['test_acc'].append(test(40))\n",
    "        display.clear_output()\n",
    "        print('test_acc: (last', logs['test_acc'][-1], ')')\n",
    "        plt.plot(logs['test_acc']); plt.show()\n",
    "        print('digit_loss: (last', logs['digit_loss'][-1].item(), ')')\n",
    "        plt.plot(logs['digit_loss']); plt.show()\n",
    "        print('orient_loss: (last', logs['orient_loss'][-1].item(), ')')\n",
    "        plt.plot(logs['orient_loss']); plt.show()\n",
    "        print('surrogate_loss: (last', logs['surrogate_loss'][-1].item(), ')')\n",
    "        plt.plot(logs['surrogate_loss']); plt.show()"
   ]
  },
  {
   "cell_type": "code",
   "execution_count": null,
   "metadata": {
    "collapsed": false
   },
   "outputs": [
    {
     "name": "stdout",
     "output_type": "stream",
     "text": [
      "test_acc: (last 0.15 )\n"
     ]
    },
    {
     "data": {
      "image/png": "[encoded data removed]",
      "text/plain": [
       "<Figure size 432x288 with 1 Axes>"
      ]
     },
     "metadata": {
      "needs_background": "light"
     },
     "output_type": "display_data"
    },
    {
     "name": "stdout",
     "output_type": "stream",
     "text": [
      "digit_loss: (last 2.276754379272461 )\n"
     ]
    },
    {
     "data": {
      "image/png": "[encoded data removed]",
      "text/plain": [
       "<Figure size 432x288 with 1 Axes>"
      ]
     },
     "metadata": {
      "needs_background": "light"
     },
     "output_type": "display_data"
    },
    {
     "name": "stdout",
     "output_type": "stream",
     "text": [
      "orient_loss: (last 6.259566307067871 )\n"
     ]
    },
    {
     "data": {
      "image/png": "[encoded data removed]",
      "text/plain": [
       "<Figure size 432x288 with 1 Axes>"
      ]
     },
     "metadata": {
      "needs_background": "light"
     },
     "output_type": "display_data"
    },
    {
     "name": "stdout",
     "output_type": "stream",
     "text": [
      "surrogate_loss: (last 2.276754379272461 )\n"
     ]
    },
    {
     "data": {
      "image/png": "[encoded data removed]",
      "text/plain": [
       "<Figure size 432x288 with 1 Axes>"
      ]
     },
     "metadata": {
      "needs_background": "light"
     },
     "output_type": "display_data"
    },
    {
     "name": "stdout",
     "output_type": "stream",
     "text": []
    }
   ],
   "source": [
    "train(num_episodes=int(1e3))"
   ]
  },
  {
   "cell_type": "code",
   "execution_count": null,
   "metadata": {
    "collapsed": true
   },
   "outputs": [],
   "source": [
    "\n",
    "\n",
    "\n",
    "\n",
    "\n",
    "\n",
    "\n",
    "\n",
    "\n",
    "\n",
    "\n",
    "\n",
    "\n",
    "\n",
    "\n",
    "\n",
    "\n",
    "\n",
    "\n",
    "\n",
    "\n",
    "\n",
    "\n",
    "\n",
    "\n",
    "\n",
    "\n",
    "\n",
    "\n",
    "\n",
    "\n",
    "\n",
    "\n",
    "\n",
    "\n",
    "\n",
    "\n",
    "\n",
    "\n",
    "\n",
    "\n",
    "\n",
    "\n",
    "\n"
   ]
  }
 ],
 "metadata": {
  "anaconda-cloud": {},
  "kernelspec": {
   "display_name": "Python [conda env:python36]",
   "language": "python",
   "name": "conda-env-python36-py"
  },
  "language_info": {
   "codemirror_mode": {
    "name": "ipython",
    "version": 3
   },
   "file_extension": ".py",
   "mimetype": "text/x-python",
   "name": "python",
   "nbconvert_exporter": "python",
   "pygments_lexer": "ipython3",
   "version": "3.6.3"
  }
 },
 "nbformat": 4,
 "nbformat_minor": 2
}
